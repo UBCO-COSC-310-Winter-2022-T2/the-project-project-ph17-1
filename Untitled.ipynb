{
 "cells": [
  {
   "cell_type": "code",
   "execution_count": 9,
   "id": "37a188d6-60f5-4cc5-96d8-a5196ee4ebef",
   "metadata": {},
   "outputs": [],
   "source": [
    "def tem():\n",
    "    inner_var=1\n",
    "    print(inner_var)"
   ]
  },
  {
   "cell_type": "code",
   "execution_count": 11,
   "id": "2ab37dd3-dd5d-4548-8a41-2878e74ab9fb",
   "metadata": {},
   "outputs": [
    {
     "name": "stdout",
     "output_type": "stream",
     "text": [
      "1\n"
     ]
    }
   ],
   "source": [
    "tem()\n",
    "inner_var = None"
   ]
  },
  {
   "cell_type": "code",
   "execution_count": 12,
   "id": "0d0012ea-d3f2-47c8-a721-5d9e04f10ac9",
   "metadata": {},
   "outputs": [
    {
     "name": "stdout",
     "output_type": "stream",
     "text": [
      "hi!\n",
      "huh?\n",
      "ok\n"
     ]
    }
   ],
   "source": [
    "try:\n",
    "    print(\"hi!\")\n",
    "    num = 'three' \n",
    "    if num%3 != 0 :\n",
    "        print(\"nope\")\n",
    "    else:\n",
    "        print(\"yep\")\n",
    "except:\n",
    "    print(\"huh?\")\n",
    "finally:\n",
    "    print(\"ok\")"
   ]
  },
  {
   "cell_type": "code",
   "execution_count": 13,
   "id": "e583a1ae-a3b5-4ccb-a865-3998b4b31364",
   "metadata": {},
   "outputs": [
    {
     "name": "stdout",
     "output_type": "stream",
     "text": [
      "A ZeroDivisionError occurred.\n"
     ]
    }
   ],
   "source": [
    "def divide_two_numbers(x, y): \n",
    "    result = x / y\n",
    "    return result\n",
    "try:\n",
    "    result = divide_two_numbers(2,0) \n",
    "    print(result)\n",
    "except NameError:\n",
    "    print(\"A NameError occurred.\")\n",
    "except ValueError:\n",
    "    print(\"A ValueError occurred.\")\n",
    "except ZeroDivisionError:\n",
    "    print(\"A ZeroDivisionError occurred.\")"
   ]
  },
  {
   "cell_type": "code",
   "execution_count": 53,
   "id": "fe2107c4-abbf-452a-80e9-87504e01174a",
   "metadata": {},
   "outputs": [],
   "source": [
    "test1 = [1,2,3,4] # create your first test list \n",
    "test2 = [2,4,5,9,11] # create your second test list \n",
    "\n",
    "# Define your function below:\n",
    "def double_index(lst, idx):\n",
    "    lst[idx]=lst[idx]*2\n",
    "    return lst\n",
    "# Test your function below with assert statements\n",
    "test3=double_index(test1, 3)\n",
    "ans=[1,2,3,8]\n",
    "assert(test3==ans)\n",
    "test4=double_index(test2, 0)\n",
    "ans=[4,4,5,9,11]\n",
    "assert(test4==ans)"
   ]
  },
  {
   "cell_type": "code",
   "execution_count": 58,
   "id": "92a72d3f-4fac-4416-905f-ddf3b5e4d009",
   "metadata": {},
   "outputs": [],
   "source": [
    "test1 = {'word','time'} # create your first test dictionary \n",
    "test2 = {'qwerty','we','z'} # create your second test dictionary \n",
    "\n",
    "# Define your function below:\n",
    "def  word_length_dictionary(word):\n",
    "    words={}\n",
    "    for x in word:\n",
    "        words[x]=len(x)\n",
    "    return words\n",
    "\n",
    "# Test your function below with assert statements\n",
    "test3=word_length_dictionary(test1)\n",
    "ans={'word': 4, 'time': 4}\n",
    "assert(test3==ans)\n",
    "test4=word_length_dictionary(test2)\n",
    "ans={'qwerty': 6, 'z': 1, 'we': 2}\n",
    "assert(test4==ans)"
   ]
  },
  {
   "cell_type": "code",
   "execution_count": 64,
   "id": "1196b3b9-851f-498a-89e4-c024bca6c655",
   "metadata": {},
   "outputs": [],
   "source": [
    "test1 = 10 # create your first test number\n",
    "test2 = 25 # create your second test number \n",
    "\n",
    "# Define your function below:\n",
    "def divisible_by_ten(num):\n",
    "    if num%10==0:\n",
    "        return True\n",
    "    else:\n",
    "        return False\n",
    "\n",
    "\n",
    "# Test your function below with assert statements\n",
    "test3=divisible_by_ten(test1)\n",
    "ans=True\n",
    "assert(test3==ans)\n",
    "test4=divisible_by_ten(test2)\n",
    "ans=False\n",
    "assert(test4==ans)"
   ]
  },
  {
   "cell_type": "code",
   "execution_count": null,
   "id": "2265d4dc-2335-41ee-bb15-6a5fbda765cd",
   "metadata": {},
   "outputs": [],
   "source": []
  }
 ],
 "metadata": {
  "kernelspec": {
   "display_name": "Python 3 (ipykernel)",
   "language": "python",
   "name": "python3"
  },
  "language_info": {
   "codemirror_mode": {
    "name": "ipython",
    "version": 3
   },
   "file_extension": ".py",
   "mimetype": "text/x-python",
   "name": "python",
   "nbconvert_exporter": "python",
   "pygments_lexer": "ipython3",
   "version": "3.10.8"
  }
 },
 "nbformat": 4,
 "nbformat_minor": 5
}
